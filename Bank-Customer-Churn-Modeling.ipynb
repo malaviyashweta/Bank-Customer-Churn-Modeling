{
 "cells": [
  {
   "cell_type": "markdown",
   "metadata": {
    "colab_type": "text",
    "id": "DRX9f5_6HUNP"
   },
   "source": [
    "## Project1 - NeuralNetworks Basics\n",
    "\n",
    "### 1st case study - Project 1:\n",
    " \n",
    "The case study is from an open source dataset from Kaggle. \n",
    "Link to the Kaggle project site:\n",
    "https://www.kaggle.com/barelydedicated/bank-customer-churn-modeling (Links to an external site.)Links to an external site.\n",
    "\n",
    "#### Given a Bank customer, can we build a classifier which can determine whether they will leave or not using Neural networks?\n",
    " \n",
    "Case file: bank.csv \n",
    " \n",
    "The points distribution for this case is as follows:\n",
    "\n",
    "1. Read the dataset\n",
    "2. Drop the columns which are unique for all users like IDs\n",
    "3. Distinguish the feature and target set\n",
    "4. Divide the data set into Train and test sets\n",
    "5. Normalize the train and test data (2.5 points)\n",
    "6. Initialize & build the model (10 points)\n",
    "7. Optimize the model (5 points)\n",
    "9. Predict the results using 0.5 as a threshold (5 points)\n",
    "10. Print the Accuracy score and confusion matrix (2.5 points)\n"
   ]
  },
  {
   "cell_type": "code",
   "execution_count": 0,
   "metadata": {
    "colab": {
     "base_uri": "https://localhost:8080/",
     "height": 80
    },
    "colab_type": "code",
    "executionInfo": {
     "elapsed": 3107,
     "status": "ok",
     "timestamp": 1581345705271,
     "user": {
      "displayName": "Mansoor Rahimat Khan",
      "photoUrl": "",
      "userId": "09687443316707549268"
     },
     "user_tz": -330
    },
    "id": "IfeZclzIHUNs",
    "outputId": "7682687b-db79-4ae3-d085-40224487236a"
   },
   "outputs": [
    {
     "name": "stderr",
     "output_type": "stream",
     "text": [
      "Using TensorFlow backend.\n"
     ]
    },
    {
     "data": {
      "text/html": [
       "<p style=\"color: red;\">\n",
       "The default version of TensorFlow in Colab will soon switch to TensorFlow 2.x.<br>\n",
       "We recommend you <a href=\"https://www.tensorflow.org/guide/migrate\" target=\"_blank\">upgrade</a> now \n",
       "or ensure your notebook will continue to use TensorFlow 1.x via the <code>%tensorflow_version 1.x</code> magic:\n",
       "<a href=\"https://colab.research.google.com/notebooks/tensorflow_version.ipynb\" target=\"_blank\">more info</a>.</p>\n"
      ],
      "text/plain": [
       "<IPython.core.display.HTML object>"
      ]
     },
     "metadata": {
      "tags": []
     },
     "output_type": "display_data"
    }
   ],
   "source": [
    "import pandas as pd\n",
    "import keras\n",
    "from keras.models import Sequential\n",
    "from keras.layers import Dense\n",
    "from sklearn import model_selection\n",
    "from sklearn.model_selection import train_test_split\n",
    "from sklearn.preprocessing import LabelEncoder, OneHotEncoder\n",
    "from sklearn.metrics import confusion_matrix"
   ]
  },
  {
   "cell_type": "markdown",
   "metadata": {
    "colab_type": "text",
    "id": "z7ubXtC8HUOA"
   },
   "source": [
    "#### Read the dataset"
   ]
  },
  {
   "cell_type": "code",
   "execution_count": 0,
   "metadata": {
    "colab": {},
    "colab_type": "code",
    "id": "1QJLp3P3HUOC"
   },
   "outputs": [],
   "source": [
    "ds = pd.read_csv(\"bank.csv\")"
   ]
  },
  {
   "cell_type": "code",
   "execution_count": 0,
   "metadata": {
    "colab": {},
    "colab_type": "code",
    "id": "nCfASHJ8HUOS",
    "outputId": "b688ce2e-92f2-41fc-9199-b9fefb6f2653"
   },
   "outputs": [
    {
     "data": {
      "text/html": [
       "<div>\n",
       "<style scoped>\n",
       "    .dataframe tbody tr th:only-of-type {\n",
       "        vertical-align: middle;\n",
       "    }\n",
       "\n",
       "    .dataframe tbody tr th {\n",
       "        vertical-align: top;\n",
       "    }\n",
       "\n",
       "    .dataframe thead th {\n",
       "        text-align: right;\n",
       "    }\n",
       "</style>\n",
       "<table border=\"1\" class=\"dataframe\">\n",
       "  <thead>\n",
       "    <tr style=\"text-align: right;\">\n",
       "      <th></th>\n",
       "      <th>RowNumber</th>\n",
       "      <th>CustomerId</th>\n",
       "      <th>Surname</th>\n",
       "      <th>CreditScore</th>\n",
       "      <th>Geography</th>\n",
       "      <th>Gender</th>\n",
       "      <th>Age</th>\n",
       "      <th>Tenure</th>\n",
       "      <th>Balance</th>\n",
       "      <th>NumOfProducts</th>\n",
       "      <th>HasCrCard</th>\n",
       "      <th>IsActiveMember</th>\n",
       "      <th>EstimatedSalary</th>\n",
       "      <th>Exited</th>\n",
       "    </tr>\n",
       "  </thead>\n",
       "  <tbody>\n",
       "    <tr>\n",
       "      <th>0</th>\n",
       "      <td>1</td>\n",
       "      <td>15634602</td>\n",
       "      <td>Hargrave</td>\n",
       "      <td>619</td>\n",
       "      <td>France</td>\n",
       "      <td>Female</td>\n",
       "      <td>42</td>\n",
       "      <td>2</td>\n",
       "      <td>0.00</td>\n",
       "      <td>1</td>\n",
       "      <td>1</td>\n",
       "      <td>1</td>\n",
       "      <td>101348.88</td>\n",
       "      <td>1</td>\n",
       "    </tr>\n",
       "    <tr>\n",
       "      <th>1</th>\n",
       "      <td>2</td>\n",
       "      <td>15647311</td>\n",
       "      <td>Hill</td>\n",
       "      <td>608</td>\n",
       "      <td>Spain</td>\n",
       "      <td>Female</td>\n",
       "      <td>41</td>\n",
       "      <td>1</td>\n",
       "      <td>83807.86</td>\n",
       "      <td>1</td>\n",
       "      <td>0</td>\n",
       "      <td>1</td>\n",
       "      <td>112542.58</td>\n",
       "      <td>0</td>\n",
       "    </tr>\n",
       "    <tr>\n",
       "      <th>2</th>\n",
       "      <td>3</td>\n",
       "      <td>15619304</td>\n",
       "      <td>Onio</td>\n",
       "      <td>502</td>\n",
       "      <td>France</td>\n",
       "      <td>Female</td>\n",
       "      <td>42</td>\n",
       "      <td>8</td>\n",
       "      <td>159660.80</td>\n",
       "      <td>3</td>\n",
       "      <td>1</td>\n",
       "      <td>0</td>\n",
       "      <td>113931.57</td>\n",
       "      <td>1</td>\n",
       "    </tr>\n",
       "    <tr>\n",
       "      <th>3</th>\n",
       "      <td>4</td>\n",
       "      <td>15701354</td>\n",
       "      <td>Boni</td>\n",
       "      <td>699</td>\n",
       "      <td>France</td>\n",
       "      <td>Female</td>\n",
       "      <td>39</td>\n",
       "      <td>1</td>\n",
       "      <td>0.00</td>\n",
       "      <td>2</td>\n",
       "      <td>0</td>\n",
       "      <td>0</td>\n",
       "      <td>93826.63</td>\n",
       "      <td>0</td>\n",
       "    </tr>\n",
       "    <tr>\n",
       "      <th>4</th>\n",
       "      <td>5</td>\n",
       "      <td>15737888</td>\n",
       "      <td>Mitchell</td>\n",
       "      <td>850</td>\n",
       "      <td>Spain</td>\n",
       "      <td>Female</td>\n",
       "      <td>43</td>\n",
       "      <td>2</td>\n",
       "      <td>125510.82</td>\n",
       "      <td>1</td>\n",
       "      <td>1</td>\n",
       "      <td>1</td>\n",
       "      <td>79084.10</td>\n",
       "      <td>0</td>\n",
       "    </tr>\n",
       "    <tr>\n",
       "      <th>5</th>\n",
       "      <td>6</td>\n",
       "      <td>15574012</td>\n",
       "      <td>Chu</td>\n",
       "      <td>645</td>\n",
       "      <td>Spain</td>\n",
       "      <td>Male</td>\n",
       "      <td>44</td>\n",
       "      <td>8</td>\n",
       "      <td>113755.78</td>\n",
       "      <td>2</td>\n",
       "      <td>1</td>\n",
       "      <td>0</td>\n",
       "      <td>149756.71</td>\n",
       "      <td>1</td>\n",
       "    </tr>\n",
       "    <tr>\n",
       "      <th>6</th>\n",
       "      <td>7</td>\n",
       "      <td>15592531</td>\n",
       "      <td>Bartlett</td>\n",
       "      <td>822</td>\n",
       "      <td>France</td>\n",
       "      <td>Male</td>\n",
       "      <td>50</td>\n",
       "      <td>7</td>\n",
       "      <td>0.00</td>\n",
       "      <td>2</td>\n",
       "      <td>1</td>\n",
       "      <td>1</td>\n",
       "      <td>10062.80</td>\n",
       "      <td>0</td>\n",
       "    </tr>\n",
       "    <tr>\n",
       "      <th>7</th>\n",
       "      <td>8</td>\n",
       "      <td>15656148</td>\n",
       "      <td>Obinna</td>\n",
       "      <td>376</td>\n",
       "      <td>Germany</td>\n",
       "      <td>Female</td>\n",
       "      <td>29</td>\n",
       "      <td>4</td>\n",
       "      <td>115046.74</td>\n",
       "      <td>4</td>\n",
       "      <td>1</td>\n",
       "      <td>0</td>\n",
       "      <td>119346.88</td>\n",
       "      <td>1</td>\n",
       "    </tr>\n",
       "    <tr>\n",
       "      <th>8</th>\n",
       "      <td>9</td>\n",
       "      <td>15792365</td>\n",
       "      <td>He</td>\n",
       "      <td>501</td>\n",
       "      <td>France</td>\n",
       "      <td>Male</td>\n",
       "      <td>44</td>\n",
       "      <td>4</td>\n",
       "      <td>142051.07</td>\n",
       "      <td>2</td>\n",
       "      <td>0</td>\n",
       "      <td>1</td>\n",
       "      <td>74940.50</td>\n",
       "      <td>0</td>\n",
       "    </tr>\n",
       "    <tr>\n",
       "      <th>9</th>\n",
       "      <td>10</td>\n",
       "      <td>15592389</td>\n",
       "      <td>H?</td>\n",
       "      <td>684</td>\n",
       "      <td>France</td>\n",
       "      <td>Male</td>\n",
       "      <td>27</td>\n",
       "      <td>2</td>\n",
       "      <td>134603.88</td>\n",
       "      <td>1</td>\n",
       "      <td>1</td>\n",
       "      <td>1</td>\n",
       "      <td>71725.73</td>\n",
       "      <td>0</td>\n",
       "    </tr>\n",
       "  </tbody>\n",
       "</table>\n",
       "</div>"
      ],
      "text/plain": [
       "   RowNumber  CustomerId   Surname  CreditScore Geography  Gender  Age  \\\n",
       "0          1    15634602  Hargrave          619    France  Female   42   \n",
       "1          2    15647311      Hill          608     Spain  Female   41   \n",
       "2          3    15619304      Onio          502    France  Female   42   \n",
       "3          4    15701354      Boni          699    France  Female   39   \n",
       "4          5    15737888  Mitchell          850     Spain  Female   43   \n",
       "5          6    15574012       Chu          645     Spain    Male   44   \n",
       "6          7    15592531  Bartlett          822    France    Male   50   \n",
       "7          8    15656148    Obinna          376   Germany  Female   29   \n",
       "8          9    15792365        He          501    France    Male   44   \n",
       "9         10    15592389        H?          684    France    Male   27   \n",
       "\n",
       "   Tenure    Balance  NumOfProducts  HasCrCard  IsActiveMember  \\\n",
       "0       2       0.00              1          1               1   \n",
       "1       1   83807.86              1          0               1   \n",
       "2       8  159660.80              3          1               0   \n",
       "3       1       0.00              2          0               0   \n",
       "4       2  125510.82              1          1               1   \n",
       "5       8  113755.78              2          1               0   \n",
       "6       7       0.00              2          1               1   \n",
       "7       4  115046.74              4          1               0   \n",
       "8       4  142051.07              2          0               1   \n",
       "9       2  134603.88              1          1               1   \n",
       "\n",
       "   EstimatedSalary  Exited  \n",
       "0        101348.88       1  \n",
       "1        112542.58       0  \n",
       "2        113931.57       1  \n",
       "3         93826.63       0  \n",
       "4         79084.10       0  \n",
       "5        149756.71       1  \n",
       "6         10062.80       0  \n",
       "7        119346.88       1  \n",
       "8         74940.50       0  \n",
       "9         71725.73       0  "
      ]
     },
     "execution_count": 5,
     "metadata": {
      "tags": []
     },
     "output_type": "execute_result"
    }
   ],
   "source": [
    "ds.head(10)"
   ]
  },
  {
   "cell_type": "markdown",
   "metadata": {
    "colab_type": "text",
    "id": "BsBwLHcmHUOg"
   },
   "source": [
    "#### Drop the columns which are unique for all users like IDs"
   ]
  },
  {
   "cell_type": "code",
   "execution_count": 0,
   "metadata": {
    "colab": {},
    "colab_type": "code",
    "id": "2phjlpsmHUOh",
    "outputId": "e3f793a7-d8c2-492b-bfad-fc42a9e98188"
   },
   "outputs": [
    {
     "data": {
      "text/plain": [
       "France     5014\n",
       "Germany    2509\n",
       "Spain      2477\n",
       "Name: Geography, dtype: int64"
      ]
     },
     "execution_count": 6,
     "metadata": {
      "tags": []
     },
     "output_type": "execute_result"
    }
   ],
   "source": [
    "ds['Geography'].value_counts()"
   ]
  },
  {
   "cell_type": "code",
   "execution_count": 0,
   "metadata": {
    "colab": {},
    "colab_type": "code",
    "id": "ivF2RMo6HUOr"
   },
   "outputs": [],
   "source": [
    "#RowNumber #CustomerId and #Surname are unique hence dropping it\n",
    "ds = ds.drop(['RowNumber', 'CustomerId', 'Surname'], axis=1)"
   ]
  },
  {
   "cell_type": "code",
   "execution_count": 0,
   "metadata": {
    "colab": {},
    "colab_type": "code",
    "id": "owLb0T9WHUO0",
    "outputId": "5b4a7457-90fd-49f2-f11d-0ff21eed830d"
   },
   "outputs": [
    {
     "name": "stdout",
     "output_type": "stream",
     "text": [
      "<class 'pandas.core.frame.DataFrame'>\n",
      "RangeIndex: 10000 entries, 0 to 9999\n",
      "Data columns (total 11 columns):\n",
      "CreditScore        10000 non-null int64\n",
      "Geography          10000 non-null object\n",
      "Gender             10000 non-null object\n",
      "Age                10000 non-null int64\n",
      "Tenure             10000 non-null int64\n",
      "Balance            10000 non-null float64\n",
      "NumOfProducts      10000 non-null int64\n",
      "HasCrCard          10000 non-null int64\n",
      "IsActiveMember     10000 non-null int64\n",
      "EstimatedSalary    10000 non-null float64\n",
      "Exited             10000 non-null int64\n",
      "dtypes: float64(2), int64(7), object(2)\n",
      "memory usage: 859.5+ KB\n"
     ]
    }
   ],
   "source": [
    "ds.info()"
   ]
  },
  {
   "cell_type": "markdown",
   "metadata": {
    "colab_type": "text",
    "id": "CUXPaUwZHUO8"
   },
   "source": [
    "#### Distinguish the feature and target set"
   ]
  },
  {
   "cell_type": "code",
   "execution_count": 0,
   "metadata": {
    "colab": {},
    "colab_type": "code",
    "id": "VTb3JwlaHUO-"
   },
   "outputs": [],
   "source": [
    "X = ds.iloc[:,0:10].values # Credit Score through Estimated Salary\n",
    "y = ds.iloc[:,10].values # Exited"
   ]
  },
  {
   "cell_type": "code",
   "execution_count": 0,
   "metadata": {
    "colab": {},
    "colab_type": "code",
    "id": "ikg-QAywHUPE",
    "outputId": "041af9ec-13ed-4c5b-da0d-acecaa0bda4d"
   },
   "outputs": [
    {
     "name": "stdout",
     "output_type": "stream",
     "text": [
      "['France' 'Spain' 'France' 'France' 'Spain' 'Spain' 'France' 'Germany'] ... will now become: \n",
      "[0 2 0 0 2 2 0 1]\n"
     ]
    }
   ],
   "source": [
    "# Encoding categorical (string based) data. Country: there are 3 options: France, Spain and Germany\n",
    "# This will convert those strings into scalar values for analysis\n",
    "print(X[:8,1], '... will now become: ')\n",
    "\n",
    "label_X_country_encoder = LabelEncoder()\n",
    "X[:,1] = label_X_country_encoder.fit_transform(X[:,1])\n",
    "print(X[:8,1])"
   ]
  },
  {
   "cell_type": "code",
   "execution_count": 0,
   "metadata": {
    "colab": {},
    "colab_type": "code",
    "id": "wWrBLaE_HUPJ",
    "outputId": "5f8d6662-67a2-4111-d96f-fdd663d5df71"
   },
   "outputs": [
    {
     "name": "stdout",
     "output_type": "stream",
     "text": [
      "['Female' 'Female' 'Female' 'Female' 'Female' 'Male'] ... will now become: \n",
      "[0 0 0 0 0 1]\n"
     ]
    }
   ],
   "source": [
    "# We will do the same thing for gender. this will be binary in this dataset\n",
    "print(X[:6,2], '... will now become: ')\n",
    "\n",
    "label_X_gender_encoder = LabelEncoder()\n",
    "X[:,2] = label_X_gender_encoder.fit_transform(X[:,2])\n",
    "print(X[:6,2])"
   ]
  },
  {
   "cell_type": "code",
   "execution_count": 0,
   "metadata": {
    "colab": {},
    "colab_type": "code",
    "id": "9vo-BBy5HUPP",
    "outputId": "9292c464-aec3-4265-8d09-7e26dbd64733"
   },
   "outputs": [
    {
     "name": "stderr",
     "output_type": "stream",
     "text": [
      "C:\\Anaconda\\envs\\tensorflow\\lib\\site-packages\\sklearn\\preprocessing\\_encoders.py:363: FutureWarning: The handling of integer data will change in version 0.22. Currently, the categories are determined based on the range [0, max(values)], while in the future they will be determined based on the unique values.\n",
      "If you want the future behaviour and silence this warning, you can specify \"categories='auto'\".\n",
      "In case you used a LabelEncoder before this OneHotEncoder to convert the categories to integers, then you can now use the OneHotEncoder directly.\n",
      "  warnings.warn(msg, FutureWarning)\n",
      "C:\\Anaconda\\envs\\tensorflow\\lib\\site-packages\\sklearn\\preprocessing\\_encoders.py:385: DeprecationWarning: The 'categorical_features' keyword is deprecated in version 0.20 and will be removed in 0.22. You can use the ColumnTransformer instead.\n",
      "  \"use the ColumnTransformer instead.\", DeprecationWarning)\n"
     ]
    }
   ],
   "source": [
    "# The Problem here is that we are treating the countries as one variable with ordinal values (0 < 1 < 2). \n",
    "# Therefore, one way to get rid of that problem is to split the countries into respective dimensions.\n",
    "# Gender does not need this as it is binary\n",
    "\n",
    "# Converting the string features into their own dimensions. Gender doesn't matter here because its binary\n",
    "countryhotencoder = OneHotEncoder(categorical_features = [1]) # 1 is the country column\n",
    "X = countryhotencoder.fit_transform(X).toarray()"
   ]
  },
  {
   "cell_type": "code",
   "execution_count": 0,
   "metadata": {
    "colab": {},
    "colab_type": "code",
    "id": "RwYnvT59HUPT",
    "outputId": "31e37a41-7db4-4716-b3c1-1cba6fa6d986"
   },
   "outputs": [
    {
     "data": {
      "text/plain": [
       "(10000, 12)"
      ]
     },
     "execution_count": 13,
     "metadata": {
      "tags": []
     },
     "output_type": "execute_result"
    }
   ],
   "source": [
    "X.shape"
   ]
  },
  {
   "cell_type": "code",
   "execution_count": 0,
   "metadata": {
    "colab": {},
    "colab_type": "code",
    "id": "KDvpBBbDHUPX",
    "outputId": "cea2806f-dab4-4308-f198-f306a1ae7b4e"
   },
   "outputs": [
    {
     "data": {
      "text/plain": [
       "array([[1.0000000e+00, 0.0000000e+00, 0.0000000e+00, ..., 1.0000000e+00,\n",
       "        1.0000000e+00, 1.0134888e+05],\n",
       "       [0.0000000e+00, 0.0000000e+00, 1.0000000e+00, ..., 0.0000000e+00,\n",
       "        1.0000000e+00, 1.1254258e+05],\n",
       "       [1.0000000e+00, 0.0000000e+00, 0.0000000e+00, ..., 1.0000000e+00,\n",
       "        0.0000000e+00, 1.1393157e+05],\n",
       "       ...,\n",
       "       [1.0000000e+00, 0.0000000e+00, 0.0000000e+00, ..., 0.0000000e+00,\n",
       "        1.0000000e+00, 4.2085580e+04],\n",
       "       [0.0000000e+00, 1.0000000e+00, 0.0000000e+00, ..., 1.0000000e+00,\n",
       "        0.0000000e+00, 9.2888520e+04],\n",
       "       [1.0000000e+00, 0.0000000e+00, 0.0000000e+00, ..., 1.0000000e+00,\n",
       "        0.0000000e+00, 3.8190780e+04]])"
      ]
     },
     "execution_count": 14,
     "metadata": {
      "tags": []
     },
     "output_type": "execute_result"
    }
   ],
   "source": [
    "X"
   ]
  },
  {
   "cell_type": "code",
   "execution_count": 0,
   "metadata": {
    "colab": {},
    "colab_type": "code",
    "id": "td8t2NpPHUPe"
   },
   "outputs": [],
   "source": [
    "# A 0 on two countries means that the country has to be the one variable which wasn't included \n",
    "# This will save us from the problem of using too many dimensions\n",
    "X = X[:,1:] # Got rid of Spain as a dimension."
   ]
  },
  {
   "cell_type": "markdown",
   "metadata": {
    "colab_type": "text",
    "id": "wyFlF8iBHUPk"
   },
   "source": [
    "#### Divide the data set into Train and test sets"
   ]
  },
  {
   "cell_type": "code",
   "execution_count": 0,
   "metadata": {
    "colab": {},
    "colab_type": "code",
    "id": "0YvyE1kXHUPl"
   },
   "outputs": [],
   "source": [
    "# Splitting the dataset into the Training and Testing set.\n",
    "\n",
    "X_train, X_test, y_train, y_test = train_test_split(X,y, test_size = 0.2, random_state = 0)"
   ]
  },
  {
   "cell_type": "markdown",
   "metadata": {
    "colab_type": "text",
    "id": "qlSyq5fNHUPp"
   },
   "source": [
    "#### Normalize the train and test data"
   ]
  },
  {
   "cell_type": "code",
   "execution_count": 0,
   "metadata": {
    "colab": {},
    "colab_type": "code",
    "id": "SEcfWvfrHUPr"
   },
   "outputs": [],
   "source": [
    "# Feature Scaling\n",
    "from sklearn.preprocessing import StandardScaler\n",
    "sc=StandardScaler()\n",
    "X_train = sc.fit_transform(X_train)\n",
    "X_test = sc.transform(X_test)"
   ]
  },
  {
   "cell_type": "markdown",
   "metadata": {
    "colab_type": "text",
    "id": "m-_JBupNHUPw"
   },
   "source": [
    "#### Initialize & build the model"
   ]
  },
  {
   "cell_type": "code",
   "execution_count": 0,
   "metadata": {
    "colab": {},
    "colab_type": "code",
    "id": "aexcSjTuHUPx"
   },
   "outputs": [],
   "source": [
    "# Initializing the ANN\n",
    "classifier = Sequential()"
   ]
  },
  {
   "cell_type": "code",
   "execution_count": 0,
   "metadata": {
    "colab": {},
    "colab_type": "code",
    "id": "bsCe9B-QHUP9"
   },
   "outputs": [],
   "source": [
    "# The amount of nodes (dimensions) in hidden layer should be the average of input and output layers, in this case 6.\n",
    "# This adds the input layer (by specifying input dimension) AND the first hidden layer (units)\n",
    "classifier.add(Dense(activation = 'relu', input_dim = 11, units=6, kernel_initializer='uniform'))"
   ]
  },
  {
   "cell_type": "code",
   "execution_count": 0,
   "metadata": {
    "colab": {},
    "colab_type": "code",
    "id": "_Diwju_BHUQK"
   },
   "outputs": [],
   "source": [
    "#Add 1st hidden layer\n",
    "classifier.add(Dense(6, activation='sigmoid', kernel_initializer='uniform'))"
   ]
  },
  {
   "cell_type": "code",
   "execution_count": 0,
   "metadata": {
    "colab": {},
    "colab_type": "code",
    "id": "pKtHXQExHUQO"
   },
   "outputs": [],
   "source": [
    "# Adding the output layer\n",
    "# Notice that we do not need to specify input dim. \n",
    "# we have an output of 1 node, which is the the desired dimensions of our output (stay with the bank or not)\n",
    "# We use the sigmoid because we want probability outcomes\n",
    "classifier.add(Dense(1, activation = 'sigmoid', kernel_initializer='uniform')) "
   ]
  },
  {
   "cell_type": "code",
   "execution_count": 0,
   "metadata": {
    "colab": {},
    "colab_type": "code",
    "id": "BNP3DiCLHUQR"
   },
   "outputs": [],
   "source": [
    "# Create optimizer with default learning rate\n",
    "# Compile the model\n",
    "classifier.compile(optimizer='SGD', loss='mse', metrics=['accuracy'])"
   ]
  },
  {
   "cell_type": "code",
   "execution_count": 0,
   "metadata": {
    "colab": {},
    "colab_type": "code",
    "id": "U1ZM6oGVHUQX",
    "outputId": "49c43bb8-344b-453a-bb99-e02be229f8c9"
   },
   "outputs": [
    {
     "name": "stdout",
     "output_type": "stream",
     "text": [
      "_________________________________________________________________\n",
      "Layer (type)                 Output Shape              Param #   \n",
      "=================================================================\n",
      "dense_1 (Dense)              (None, 6)                 72        \n",
      "_________________________________________________________________\n",
      "dense_2 (Dense)              (None, 6)                 42        \n",
      "_________________________________________________________________\n",
      "dense_3 (Dense)              (None, 1)                 7         \n",
      "=================================================================\n",
      "Total params: 121\n",
      "Trainable params: 121\n",
      "Non-trainable params: 0\n",
      "_________________________________________________________________\n"
     ]
    }
   ],
   "source": [
    "classifier.summary()"
   ]
  },
  {
   "cell_type": "code",
   "execution_count": 0,
   "metadata": {
    "colab": {},
    "colab_type": "code",
    "id": "H5q62XKSHUQc",
    "outputId": "8ace051a-88f7-4d41-9723-8013357c2592"
   },
   "outputs": [
    {
     "name": "stdout",
     "output_type": "stream",
     "text": [
      "Train on 8000 samples, validate on 2000 samples\n",
      "Epoch 1/100\n",
      "8000/8000 [==============================] - 1s 130us/step - loss: 0.2035 - acc: 0.7960 - val_loss: 0.1808 - val_acc: 0.7975\n",
      "Epoch 2/100\n",
      "8000/8000 [==============================] - 0s 61us/step - loss: 0.1735 - acc: 0.7960 - val_loss: 0.1678 - val_acc: 0.7975\n",
      "Epoch 3/100\n",
      "8000/8000 [==============================] - 0s 55us/step - loss: 0.1663 - acc: 0.7960 - val_loss: 0.1640 - val_acc: 0.7975\n",
      "Epoch 4/100\n",
      "8000/8000 [==============================] - 0s 56us/step - loss: 0.1640 - acc: 0.7960 - val_loss: 0.1626 - val_acc: 0.7975\n",
      "Epoch 5/100\n",
      "8000/8000 [==============================] - 0s 53us/step - loss: 0.1631 - acc: 0.7960 - val_loss: 0.1620 - val_acc: 0.7975\n",
      "Epoch 6/100\n",
      "8000/8000 [==============================] - 0s 55us/step - loss: 0.1627 - acc: 0.7960 - val_loss: 0.1617 - val_acc: 0.7975\n",
      "Epoch 7/100\n",
      "8000/8000 [==============================] - 0s 53us/step - loss: 0.1625 - acc: 0.7960 - val_loss: 0.1616 - val_acc: 0.7975\n",
      "Epoch 8/100\n",
      "8000/8000 [==============================] - 0s 54us/step - loss: 0.1625 - acc: 0.7960 - val_loss: 0.1616 - val_acc: 0.7975\n",
      "Epoch 9/100\n",
      "8000/8000 [==============================] - 0s 53us/step - loss: 0.1624 - acc: 0.7960 - val_loss: 0.1615 - val_acc: 0.7975\n",
      "Epoch 10/100\n",
      "8000/8000 [==============================] - 0s 53us/step - loss: 0.1624 - acc: 0.7960 - val_loss: 0.1615 - val_acc: 0.7975\n",
      "Epoch 11/100\n",
      "8000/8000 [==============================] - 0s 53us/step - loss: 0.1624 - acc: 0.7960 - val_loss: 0.1615 - val_acc: 0.7975\n",
      "Epoch 12/100\n",
      "8000/8000 [==============================] - 0s 54us/step - loss: 0.1624 - acc: 0.7960 - val_loss: 0.1615 - val_acc: 0.7975\n",
      "Epoch 13/100\n",
      "8000/8000 [==============================] - 0s 53us/step - loss: 0.1624 - acc: 0.7960 - val_loss: 0.1615 - val_acc: 0.7975\n",
      "Epoch 14/100\n",
      "8000/8000 [==============================] - 0s 53us/step - loss: 0.1624 - acc: 0.7960 - val_loss: 0.1615 - val_acc: 0.7975\n",
      "Epoch 15/100\n",
      "8000/8000 [==============================] - 0s 53us/step - loss: 0.1624 - acc: 0.7960 - val_loss: 0.1615 - val_acc: 0.7975\n",
      "Epoch 16/100\n",
      "8000/8000 [==============================] - 0s 54us/step - loss: 0.1624 - acc: 0.7960 - val_loss: 0.1615 - val_acc: 0.7975\n",
      "Epoch 17/100\n",
      "8000/8000 [==============================] - 0s 55us/step - loss: 0.1624 - acc: 0.7960 - val_loss: 0.1615 - val_acc: 0.7975\n",
      "Epoch 18/100\n",
      "8000/8000 [==============================] - 0s 54us/step - loss: 0.1624 - acc: 0.7960 - val_loss: 0.1615 - val_acc: 0.7975\n",
      "Epoch 19/100\n",
      "8000/8000 [==============================] - 0s 55us/step - loss: 0.1624 - acc: 0.7960 - val_loss: 0.1615 - val_acc: 0.7975\n",
      "Epoch 20/100\n",
      "8000/8000 [==============================] - 0s 51us/step - loss: 0.1624 - acc: 0.7960 - val_loss: 0.1615 - val_acc: 0.7975\n",
      "Epoch 21/100\n",
      "8000/8000 [==============================] - 0s 53us/step - loss: 0.1624 - acc: 0.7960 - val_loss: 0.1615 - val_acc: 0.7975\n",
      "Epoch 22/100\n",
      "8000/8000 [==============================] - 0s 50us/step - loss: 0.1624 - acc: 0.7960 - val_loss: 0.1615 - val_acc: 0.7975\n",
      "Epoch 23/100\n",
      "8000/8000 [==============================] - 0s 48us/step - loss: 0.1624 - acc: 0.7960 - val_loss: 0.1615 - val_acc: 0.7975\n",
      "Epoch 24/100\n",
      "8000/8000 [==============================] - 0s 50us/step - loss: 0.1624 - acc: 0.7960 - val_loss: 0.1615 - val_acc: 0.7975\n",
      "Epoch 25/100\n",
      "8000/8000 [==============================] - 0s 53us/step - loss: 0.1624 - acc: 0.7960 - val_loss: 0.1615 - val_acc: 0.7975\n",
      "Epoch 26/100\n",
      "8000/8000 [==============================] - 0s 52us/step - loss: 0.1624 - acc: 0.7960 - val_loss: 0.1615 - val_acc: 0.7975\n",
      "Epoch 27/100\n",
      "8000/8000 [==============================] - 0s 54us/step - loss: 0.1624 - acc: 0.7960 - val_loss: 0.1615 - val_acc: 0.7975\n",
      "Epoch 28/100\n",
      "8000/8000 [==============================] - 0s 49us/step - loss: 0.1624 - acc: 0.7960 - val_loss: 0.1615 - val_acc: 0.7975\n",
      "Epoch 29/100\n",
      "8000/8000 [==============================] - 0s 48us/step - loss: 0.1624 - acc: 0.7960 - val_loss: 0.1615 - val_acc: 0.7975\n",
      "Epoch 30/100\n",
      "8000/8000 [==============================] - 0s 53us/step - loss: 0.1624 - acc: 0.7960 - val_loss: 0.1615 - val_acc: 0.7975\n",
      "Epoch 31/100\n",
      "8000/8000 [==============================] - 0s 51us/step - loss: 0.1624 - acc: 0.7960 - val_loss: 0.1615 - val_acc: 0.7975\n",
      "Epoch 32/100\n",
      "8000/8000 [==============================] - 0s 49us/step - loss: 0.1624 - acc: 0.7960 - val_loss: 0.1615 - val_acc: 0.7975\n",
      "Epoch 33/100\n",
      "8000/8000 [==============================] - 0s 51us/step - loss: 0.1624 - acc: 0.7960 - val_loss: 0.1615 - val_acc: 0.7975\n",
      "Epoch 34/100\n",
      "8000/8000 [==============================] - 0s 49us/step - loss: 0.1624 - acc: 0.7960 - val_loss: 0.1615 - val_acc: 0.7975\n",
      "Epoch 35/100\n",
      "8000/8000 [==============================] - 0s 52us/step - loss: 0.1624 - acc: 0.7960 - val_loss: 0.1615 - val_acc: 0.7975\n",
      "Epoch 36/100\n",
      "8000/8000 [==============================] - 0s 51us/step - loss: 0.1624 - acc: 0.7960 - val_loss: 0.1615 - val_acc: 0.7975\n",
      "Epoch 37/100\n",
      "8000/8000 [==============================] - 0s 55us/step - loss: 0.1624 - acc: 0.7960 - val_loss: 0.1615 - val_acc: 0.7975\n",
      "Epoch 38/100\n",
      "8000/8000 [==============================] - 0s 56us/step - loss: 0.1624 - acc: 0.7960 - val_loss: 0.1615 - val_acc: 0.7975\n",
      "Epoch 39/100\n",
      "8000/8000 [==============================] - 0s 54us/step - loss: 0.1624 - acc: 0.7960 - val_loss: 0.1615 - val_acc: 0.7975\n",
      "Epoch 40/100\n",
      "8000/8000 [==============================] - 0s 51us/step - loss: 0.1624 - acc: 0.7960 - val_loss: 0.1615 - val_acc: 0.7975\n",
      "Epoch 41/100\n",
      "8000/8000 [==============================] - 0s 51us/step - loss: 0.1624 - acc: 0.7960 - val_loss: 0.1615 - val_acc: 0.7975\n",
      "Epoch 42/100\n",
      "8000/8000 [==============================] - 0s 50us/step - loss: 0.1624 - acc: 0.7960 - val_loss: 0.1615 - val_acc: 0.7975\n",
      "Epoch 43/100\n",
      "8000/8000 [==============================] - 0s 53us/step - loss: 0.1624 - acc: 0.7960 - val_loss: 0.1615 - val_acc: 0.7975\n",
      "Epoch 44/100\n",
      "8000/8000 [==============================] - 0s 50us/step - loss: 0.1624 - acc: 0.7960 - val_loss: 0.1615 - val_acc: 0.7975\n",
      "Epoch 45/100\n",
      "8000/8000 [==============================] - 0s 58us/step - loss: 0.1623 - acc: 0.7960 - val_loss: 0.1614 - val_acc: 0.7975\n",
      "Epoch 46/100\n",
      "8000/8000 [==============================] - 0s 47us/step - loss: 0.1623 - acc: 0.7960 - val_loss: 0.1614 - val_acc: 0.7975\n",
      "Epoch 47/100\n",
      "8000/8000 [==============================] - 0s 47us/step - loss: 0.1623 - acc: 0.7960 - val_loss: 0.1614 - val_acc: 0.7975\n",
      "Epoch 48/100\n",
      "8000/8000 [==============================] - 0s 47us/step - loss: 0.1623 - acc: 0.7960 - val_loss: 0.1614 - val_acc: 0.7975\n",
      "Epoch 49/100\n",
      "8000/8000 [==============================] - 0s 46us/step - loss: 0.1623 - acc: 0.7960 - val_loss: 0.1614 - val_acc: 0.7975\n",
      "Epoch 50/100\n",
      "8000/8000 [==============================] - 0s 47us/step - loss: 0.1623 - acc: 0.7960 - val_loss: 0.1614 - val_acc: 0.7975\n",
      "Epoch 51/100\n",
      "8000/8000 [==============================] - 0s 50us/step - loss: 0.1623 - acc: 0.7960 - val_loss: 0.1614 - val_acc: 0.7975\n",
      "Epoch 52/100\n",
      "8000/8000 [==============================] - 0s 44us/step - loss: 0.1623 - acc: 0.7960 - val_loss: 0.1614 - val_acc: 0.7975\n",
      "Epoch 53/100\n",
      "8000/8000 [==============================] - 0s 52us/step - loss: 0.1623 - acc: 0.7960 - val_loss: 0.1614 - val_acc: 0.7975\n",
      "Epoch 54/100\n",
      "8000/8000 [==============================] - 0s 47us/step - loss: 0.1623 - acc: 0.7960 - val_loss: 0.1614 - val_acc: 0.7975\n",
      "Epoch 55/100\n",
      "8000/8000 [==============================] - 0s 46us/step - loss: 0.1623 - acc: 0.7960 - val_loss: 0.1614 - val_acc: 0.7975\n",
      "Epoch 56/100\n",
      "8000/8000 [==============================] - 0s 47us/step - loss: 0.1623 - acc: 0.7960 - val_loss: 0.1614 - val_acc: 0.7975\n",
      "Epoch 57/100\n",
      "8000/8000 [==============================] - 0s 49us/step - loss: 0.1623 - acc: 0.7960 - val_loss: 0.1614 - val_acc: 0.7975\n",
      "Epoch 58/100\n",
      "8000/8000 [==============================] - 0s 47us/step - loss: 0.1623 - acc: 0.7960 - val_loss: 0.1614 - val_acc: 0.7975\n",
      "Epoch 59/100\n",
      "8000/8000 [==============================] - 0s 46us/step - loss: 0.1623 - acc: 0.7960 - val_loss: 0.1614 - val_acc: 0.7975\n",
      "Epoch 60/100\n",
      "8000/8000 [==============================] - 0s 49us/step - loss: 0.1623 - acc: 0.7960 - val_loss: 0.1614 - val_acc: 0.7975\n",
      "Epoch 61/100\n",
      "8000/8000 [==============================] - 0s 57us/step - loss: 0.1623 - acc: 0.7960 - val_loss: 0.1614 - val_acc: 0.7975\n",
      "Epoch 62/100\n",
      "8000/8000 [==============================] - 0s 51us/step - loss: 0.1623 - acc: 0.7960 - val_loss: 0.1614 - val_acc: 0.7975\n",
      "Epoch 63/100\n",
      "8000/8000 [==============================] - 0s 55us/step - loss: 0.1623 - acc: 0.7960 - val_loss: 0.1614 - val_acc: 0.7975\n",
      "Epoch 64/100\n",
      "8000/8000 [==============================] - 0s 53us/step - loss: 0.1623 - acc: 0.7960 - val_loss: 0.1614 - val_acc: 0.7975\n",
      "Epoch 65/100\n",
      "8000/8000 [==============================] - 0s 58us/step - loss: 0.1623 - acc: 0.7960 - val_loss: 0.1614 - val_acc: 0.7975\n",
      "Epoch 66/100\n",
      "8000/8000 [==============================] - 0s 54us/step - loss: 0.1623 - acc: 0.7960 - val_loss: 0.1614 - val_acc: 0.7975\n",
      "Epoch 67/100\n",
      "8000/8000 [==============================] - 0s 56us/step - loss: 0.1623 - acc: 0.7960 - val_loss: 0.1614 - val_acc: 0.7975\n",
      "Epoch 68/100\n",
      "8000/8000 [==============================] - 0s 54us/step - loss: 0.1623 - acc: 0.7960 - val_loss: 0.1614 - val_acc: 0.7975\n",
      "Epoch 69/100\n",
      "8000/8000 [==============================] - 0s 54us/step - loss: 0.1623 - acc: 0.7960 - val_loss: 0.1614 - val_acc: 0.7975\n",
      "Epoch 70/100\n",
      "8000/8000 [==============================] - 0s 55us/step - loss: 0.1623 - acc: 0.7960 - val_loss: 0.1614 - val_acc: 0.7975\n",
      "Epoch 71/100\n",
      "8000/8000 [==============================] - 0s 58us/step - loss: 0.1623 - acc: 0.7960 - val_loss: 0.1614 - val_acc: 0.7975\n",
      "Epoch 72/100\n",
      "8000/8000 [==============================] - 0s 54us/step - loss: 0.1623 - acc: 0.7960 - val_loss: 0.1614 - val_acc: 0.7975\n",
      "Epoch 73/100\n",
      "8000/8000 [==============================] - 0s 59us/step - loss: 0.1623 - acc: 0.7960 - val_loss: 0.1614 - val_acc: 0.7975\n",
      "Epoch 74/100\n",
      "8000/8000 [==============================] - 0s 52us/step - loss: 0.1623 - acc: 0.7960 - val_loss: 0.1614 - val_acc: 0.7975\n",
      "Epoch 75/100\n",
      "8000/8000 [==============================] - 0s 59us/step - loss: 0.1623 - acc: 0.7960 - val_loss: 0.1614 - val_acc: 0.7975\n",
      "Epoch 76/100\n",
      "8000/8000 [==============================] - 0s 56us/step - loss: 0.1623 - acc: 0.7960 - val_loss: 0.1614 - val_acc: 0.7975\n",
      "Epoch 77/100\n",
      "8000/8000 [==============================] - 0s 56us/step - loss: 0.1623 - acc: 0.7960 - val_loss: 0.1614 - val_acc: 0.7975\n",
      "Epoch 78/100\n",
      "8000/8000 [==============================] - 0s 57us/step - loss: 0.1623 - acc: 0.7960 - val_loss: 0.1614 - val_acc: 0.7975\n",
      "Epoch 79/100\n",
      "8000/8000 [==============================] - 0s 53us/step - loss: 0.1623 - acc: 0.7960 - val_loss: 0.1613 - val_acc: 0.7975\n",
      "Epoch 80/100\n",
      "8000/8000 [==============================] - 0s 50us/step - loss: 0.1622 - acc: 0.7960 - val_loss: 0.1613 - val_acc: 0.7975\n",
      "Epoch 81/100\n",
      "8000/8000 [==============================] - 0s 53us/step - loss: 0.1622 - acc: 0.7960 - val_loss: 0.1613 - val_acc: 0.7975\n",
      "Epoch 82/100\n",
      "8000/8000 [==============================] - 0s 54us/step - loss: 0.1622 - acc: 0.7960 - val_loss: 0.1613 - val_acc: 0.7975\n",
      "Epoch 83/100\n",
      "8000/8000 [==============================] - 0s 53us/step - loss: 0.1622 - acc: 0.7960 - val_loss: 0.1613 - val_acc: 0.7975\n",
      "Epoch 84/100\n",
      "8000/8000 [==============================] - 0s 48us/step - loss: 0.1622 - acc: 0.7960 - val_loss: 0.1613 - val_acc: 0.7975\n",
      "Epoch 85/100\n",
      "8000/8000 [==============================] - 0s 54us/step - loss: 0.1622 - acc: 0.7960 - val_loss: 0.1613 - val_acc: 0.7975\n",
      "Epoch 86/100\n",
      "8000/8000 [==============================] - 0s 52us/step - loss: 0.1622 - acc: 0.7960 - val_loss: 0.1613 - val_acc: 0.7975\n",
      "Epoch 87/100\n",
      "8000/8000 [==============================] - 0s 51us/step - loss: 0.1622 - acc: 0.7960 - val_loss: 0.1613 - val_acc: 0.7975\n",
      "Epoch 88/100\n",
      "8000/8000 [==============================] - 0s 54us/step - loss: 0.1622 - acc: 0.7960 - val_loss: 0.1613 - val_acc: 0.7975\n",
      "Epoch 89/100\n",
      "8000/8000 [==============================] - 0s 50us/step - loss: 0.1622 - acc: 0.7960 - val_loss: 0.1613 - val_acc: 0.7975\n",
      "Epoch 90/100\n",
      "8000/8000 [==============================] - 0s 54us/step - loss: 0.1622 - acc: 0.7960 - val_loss: 0.1613 - val_acc: 0.7975\n",
      "Epoch 91/100\n",
      "8000/8000 [==============================] - 0s 53us/step - loss: 0.1622 - acc: 0.7960 - val_loss: 0.1613 - val_acc: 0.7975\n",
      "Epoch 92/100\n",
      "8000/8000 [==============================] - 0s 56us/step - loss: 0.1622 - acc: 0.7960 - val_loss: 0.1613 - val_acc: 0.7975\n",
      "Epoch 93/100\n",
      "8000/8000 [==============================] - 0s 54us/step - loss: 0.1622 - acc: 0.7960 - val_loss: 0.1613 - val_acc: 0.7975\n",
      "Epoch 94/100\n",
      "8000/8000 [==============================] - 0s 50us/step - loss: 0.1622 - acc: 0.7960 - val_loss: 0.1613 - val_acc: 0.7975\n",
      "Epoch 95/100\n",
      "8000/8000 [==============================] - 0s 53us/step - loss: 0.1622 - acc: 0.7960 - val_loss: 0.1612 - val_acc: 0.7975\n",
      "Epoch 96/100\n",
      "8000/8000 [==============================] - 0s 54us/step - loss: 0.1622 - acc: 0.7960 - val_loss: 0.1612 - val_acc: 0.7975\n",
      "Epoch 97/100\n",
      "8000/8000 [==============================] - 0s 52us/step - loss: 0.1621 - acc: 0.7960 - val_loss: 0.1612 - val_acc: 0.7975\n",
      "Epoch 98/100\n",
      "8000/8000 [==============================] - 0s 53us/step - loss: 0.1621 - acc: 0.7960 - val_loss: 0.1612 - val_acc: 0.7975\n",
      "Epoch 99/100\n",
      "8000/8000 [==============================] - 0s 54us/step - loss: 0.1621 - acc: 0.7960 - val_loss: 0.1612 - val_acc: 0.7975\n",
      "Epoch 100/100\n",
      "8000/8000 [==============================] - 0s 49us/step - loss: 0.1621 - acc: 0.7960 - val_loss: 0.1612 - val_acc: 0.7975\n"
     ]
    },
    {
     "data": {
      "text/plain": [
       "<keras.callbacks.History at 0x229e89e10b8>"
      ]
     },
     "execution_count": 36,
     "metadata": {
      "tags": []
     },
     "output_type": "execute_result"
    }
   ],
   "source": [
    "classifier.fit(X_train, y_train,           \n",
    "          validation_data=(X_test,y_test),\n",
    "          epochs=100,\n",
    "          batch_size=32)"
   ]
  },
  {
   "cell_type": "markdown",
   "metadata": {
    "colab_type": "text",
    "id": "il6Kmob4HUQi"
   },
   "source": [
    "#### Predict the results using 0.5 as a threshold"
   ]
  },
  {
   "cell_type": "code",
   "execution_count": 0,
   "metadata": {
    "colab": {},
    "colab_type": "code",
    "id": "A7-PkHlvHUQk",
    "outputId": "218c240e-3090-4987-f509-d79d0cd46722"
   },
   "outputs": [
    {
     "name": "stdout",
     "output_type": "stream",
     "text": [
      "[[0.20464408]\n",
      " [0.20542218]\n",
      " [0.20368084]\n",
      " ...\n",
      " [0.20381185]\n",
      " [0.20336667]\n",
      " [0.20426083]]\n"
     ]
    }
   ],
   "source": [
    "y_pred = classifier.predict(X_test)\n",
    "print(y_pred)"
   ]
  },
  {
   "cell_type": "code",
   "execution_count": 0,
   "metadata": {
    "colab": {},
    "colab_type": "code",
    "id": "C70m541dHUQo",
    "outputId": "dfc077b8-4252-45e6-ccbf-c39092e6ab6c"
   },
   "outputs": [
    {
     "name": "stdout",
     "output_type": "stream",
     "text": [
      "[[False]\n",
      " [False]\n",
      " [False]\n",
      " ...\n",
      " [False]\n",
      " [False]\n",
      " [False]]\n"
     ]
    }
   ],
   "source": [
    "# To use the confusion Matrix, we need to convert the probabilities that a customer will leave the bank into the form true or false. \n",
    "# So we will use the cutoff value 0.5 to indicate whether they are likely to exit or not.\n",
    "y_pred = (y_pred > 0.5)\n",
    "print(y_pred)"
   ]
  },
  {
   "cell_type": "markdown",
   "metadata": {
    "colab_type": "text",
    "id": "E4DXFj4LHUQr"
   },
   "source": [
    "#### Print the Accuracy score and confusion matrix"
   ]
  },
  {
   "cell_type": "code",
   "execution_count": 0,
   "metadata": {
    "colab": {},
    "colab_type": "code",
    "id": "Mg32MO2OHUQs",
    "outputId": "37ff31cc-5be6-4822-d44c-d46c668b0e15"
   },
   "outputs": [
    {
     "name": "stdout",
     "output_type": "stream",
     "text": [
      "[[1595    0]\n",
      " [ 405    0]]\n"
     ]
    }
   ],
   "source": [
    "cm1 = confusion_matrix(y_test, y_pred)\n",
    "print(cm1)"
   ]
  },
  {
   "cell_type": "code",
   "execution_count": 0,
   "metadata": {
    "colab": {},
    "colab_type": "code",
    "id": "Sm9XiMdxHUQw",
    "outputId": "9b643a7c-2ed1-46a2-bdab-a24ecfb882d1"
   },
   "outputs": [
    {
     "name": "stdout",
     "output_type": "stream",
     "text": [
      "79.75 % of testing data was classified correctly\n"
     ]
    }
   ],
   "source": [
    "accuracy_model1 = ((cm1[0][0]+cm1[1][1])*100)/(cm1[0][0]+cm1[1][1]+cm1[0][1]+cm1[1][0])\n",
    "print (accuracy_model1, '% of testing data was classified correctly')"
   ]
  },
  {
   "cell_type": "markdown",
   "metadata": {
    "colab_type": "text",
    "id": "chY3sKXrHUQ0"
   },
   "source": [
    "#### Optimize the model"
   ]
  },
  {
   "cell_type": "markdown",
   "metadata": {
    "colab_type": "text",
    "id": "RH9SySidHUQ1"
   },
   "source": [
    "Some important parameters to look out for while optimizing neural networks are:\n",
    "\n",
    "-Type of architecture\n",
    "\n",
    "-Number of Layers\n",
    "\n",
    "-Number of Neurons in a layer\n",
    "\n",
    "-Regularization parameters\n",
    "\n",
    "-Learning Rate\n",
    "\n",
    "-Type of optimization / backpropagation technique to use\n",
    "\n",
    "-Dropout rate\n",
    "\n",
    "-Weight sharing"
   ]
  },
  {
   "cell_type": "markdown",
   "metadata": {
    "colab_type": "text",
    "id": "wWFZuawVHUQ3"
   },
   "source": [
    "##### Number of Layers:\n",
    "We will keep it similar to the above model so that we can compare the accuracy.\n",
    "1 hidden layer.\n",
    "\n",
    "##### Activation:\n",
    "input layer: relu becasue we are in an input layer. uses the ReLu activation function for  ϕ\n",
    "output layer: sigmoid becasue we are in an output layer. uses the Sigmoid activation function for  ϕ . This is used instead of the ReLu function becasue it generates probabilities for the outcome. We want the probability that each customer leaves the bank.\n",
    "\n",
    "##### Type of optimization / backpropagation technique to use: \n",
    "We will use Adam. Adam is a very efficeint variation of Stochastic Gradient Descent. For Adam and its variant, learning rate or the decay rate does not really matter too much.\n",
    "\n",
    "##### Learning Rate:\n",
    "default learning rate 0.001.\n",
    "\n",
    "##### Number of Neurons in a layer:\n",
    "We will keep it 6 as per our initial calculation above.\n",
    "\n",
    "##### Weight sharing / kernel_initializer: \n",
    "uniform the distribution with which we randomly initialize weights for the nodes in this layer.\n",
    "\n",
    "##### Loss:\n",
    "loss: binary_crossentropy This is the loss function used within adam. This should be the logarthmic loss. If our dependent (output variable) is Binary, it is binary_crossentropy. If Categorical, then it is called categorical_crossentropy\n",
    "\n",
    "Rebuilding the model using these optimised parameters"
   ]
  },
  {
   "cell_type": "code",
   "execution_count": 0,
   "metadata": {
    "colab": {},
    "colab_type": "code",
    "id": "xrWiY4uRHURB"
   },
   "outputs": [],
   "source": [
    "# Initializing the ANN\n",
    "classifier = Sequential()\n",
    "# This adds the input layer (by specifying input dimension) AND the first hidden layer (units)\n",
    "classifier.add(Dense(activation = 'relu', input_dim = 11, units=6, kernel_initializer='uniform'))"
   ]
  },
  {
   "cell_type": "code",
   "execution_count": 0,
   "metadata": {
    "colab": {},
    "colab_type": "code",
    "id": "VRO3Pf80HURF"
   },
   "outputs": [],
   "source": [
    "# Adding the hidden layer\n",
    "# Notice that we do not need to specify input dim. \n",
    "classifier.add(Dense(activation = 'relu', units=6, kernel_initializer='uniform')) "
   ]
  },
  {
   "cell_type": "code",
   "execution_count": 0,
   "metadata": {
    "colab": {},
    "colab_type": "code",
    "id": "TtBNdW3mHURI"
   },
   "outputs": [],
   "source": [
    "# Adding the output layer\n",
    "# Notice that we do not need to specify input dim. \n",
    "# we have an output of 1 node, which is the the desired dimensions of our output (stay with the bank or not)\n",
    "# We use the sigmoid because we want probability outcomes\n",
    "classifier.add(Dense(activation = 'sigmoid', units=1, kernel_initializer='uniform')) "
   ]
  },
  {
   "cell_type": "code",
   "execution_count": 0,
   "metadata": {
    "colab": {},
    "colab_type": "code",
    "id": "x0p8AWY9HURM"
   },
   "outputs": [],
   "source": [
    "classifier.compile(optimizer='adam', loss = 'binary_crossentropy', metrics=['accuracy'])"
   ]
  },
  {
   "cell_type": "code",
   "execution_count": 0,
   "metadata": {
    "colab": {},
    "colab_type": "code",
    "id": "AZMV81S5HURR",
    "outputId": "99d412f7-9e1b-4ed8-cf6c-88566d6cd142"
   },
   "outputs": [
    {
     "name": "stdout",
     "output_type": "stream",
     "text": [
      "Train on 8000 samples, validate on 2000 samples\n",
      "Epoch 1/100\n",
      "8000/8000 [==============================] - 1s 78us/step - loss: 0.5833 - acc: 0.7940 - val_loss: 0.4471 - val_acc: 0.7975\n",
      "Epoch 2/100\n",
      "8000/8000 [==============================] - 0s 39us/step - loss: 0.4367 - acc: 0.7960 - val_loss: 0.4328 - val_acc: 0.7975\n",
      "Epoch 3/100\n",
      "8000/8000 [==============================] - 0s 38us/step - loss: 0.4309 - acc: 0.7960 - val_loss: 0.4294 - val_acc: 0.7975\n",
      "Epoch 4/100\n",
      "8000/8000 [==============================] - 0s 38us/step - loss: 0.4285 - acc: 0.7960 - val_loss: 0.4261 - val_acc: 0.7975\n",
      "Epoch 5/100\n",
      "8000/8000 [==============================] - 0s 39us/step - loss: 0.4256 - acc: 0.7960 - val_loss: 0.4226 - val_acc: 0.7975\n",
      "Epoch 6/100\n",
      "8000/8000 [==============================] - 0s 39us/step - loss: 0.4219 - acc: 0.8105 - val_loss: 0.4197 - val_acc: 0.8235\n",
      "Epoch 7/100\n",
      "8000/8000 [==============================] - 0s 38us/step - loss: 0.4181 - acc: 0.8250 - val_loss: 0.4145 - val_acc: 0.8310\n",
      "Epoch 8/100\n",
      "8000/8000 [==============================] - 0s 38us/step - loss: 0.4146 - acc: 0.8296 - val_loss: 0.4105 - val_acc: 0.8345\n",
      "Epoch 9/100\n",
      "8000/8000 [==============================] - 0s 39us/step - loss: 0.4118 - acc: 0.8303 - val_loss: 0.4095 - val_acc: 0.8410\n",
      "Epoch 10/100\n",
      "8000/8000 [==============================] - 0s 38us/step - loss: 0.4097 - acc: 0.8311 - val_loss: 0.4067 - val_acc: 0.8420\n",
      "Epoch 11/100\n",
      "8000/8000 [==============================] - 0s 40us/step - loss: 0.4077 - acc: 0.8317 - val_loss: 0.4042 - val_acc: 0.8375\n",
      "Epoch 12/100\n",
      "8000/8000 [==============================] - 0s 38us/step - loss: 0.4069 - acc: 0.8336 - val_loss: 0.4022 - val_acc: 0.8405\n",
      "Epoch 13/100\n",
      "8000/8000 [==============================] - 0s 37us/step - loss: 0.4056 - acc: 0.8316 - val_loss: 0.4012 - val_acc: 0.8405\n",
      "Epoch 14/100\n",
      "8000/8000 [==============================] - 0s 38us/step - loss: 0.4044 - acc: 0.8350 - val_loss: 0.4002 - val_acc: 0.8420\n",
      "Epoch 15/100\n",
      "8000/8000 [==============================] - 0s 38us/step - loss: 0.4034 - acc: 0.8341 - val_loss: 0.3984 - val_acc: 0.8400\n",
      "Epoch 16/100\n",
      "8000/8000 [==============================] - 0s 37us/step - loss: 0.4028 - acc: 0.8346 - val_loss: 0.3979 - val_acc: 0.8425\n",
      "Epoch 17/100\n",
      "8000/8000 [==============================] - 0s 38us/step - loss: 0.4021 - acc: 0.8346 - val_loss: 0.3967 - val_acc: 0.8400\n",
      "Epoch 18/100\n",
      "8000/8000 [==============================] - 0s 38us/step - loss: 0.4016 - acc: 0.8356 - val_loss: 0.3971 - val_acc: 0.8435\n",
      "Epoch 19/100\n",
      "8000/8000 [==============================] - 0s 38us/step - loss: 0.4009 - acc: 0.8344 - val_loss: 0.3965 - val_acc: 0.8440\n",
      "Epoch 20/100\n",
      "8000/8000 [==============================] - 0s 38us/step - loss: 0.4001 - acc: 0.8353 - val_loss: 0.3977 - val_acc: 0.8425\n",
      "Epoch 21/100\n",
      "8000/8000 [==============================] - 0s 38us/step - loss: 0.4001 - acc: 0.8341 - val_loss: 0.3950 - val_acc: 0.8415\n",
      "Epoch 22/100\n",
      "8000/8000 [==============================] - 0s 38us/step - loss: 0.3991 - acc: 0.8357 - val_loss: 0.3955 - val_acc: 0.8425\n",
      "Epoch 23/100\n",
      "8000/8000 [==============================] - 0s 39us/step - loss: 0.3987 - acc: 0.8349 - val_loss: 0.3946 - val_acc: 0.8425\n",
      "Epoch 24/100\n",
      "8000/8000 [==============================] - 0s 39us/step - loss: 0.3984 - acc: 0.8357 - val_loss: 0.3942 - val_acc: 0.8430\n",
      "Epoch 25/100\n",
      "8000/8000 [==============================] - 0s 40us/step - loss: 0.3981 - acc: 0.8363 - val_loss: 0.3943 - val_acc: 0.8440\n",
      "Epoch 26/100\n",
      "8000/8000 [==============================] - 0s 41us/step - loss: 0.3978 - acc: 0.8346 - val_loss: 0.3939 - val_acc: 0.8420\n",
      "Epoch 27/100\n",
      "8000/8000 [==============================] - 0s 40us/step - loss: 0.3973 - acc: 0.8353 - val_loss: 0.3934 - val_acc: 0.8420\n",
      "Epoch 28/100\n",
      "8000/8000 [==============================] - 0s 43us/step - loss: 0.3972 - acc: 0.8349 - val_loss: 0.3951 - val_acc: 0.8415\n",
      "Epoch 29/100\n",
      "8000/8000 [==============================] - 0s 40us/step - loss: 0.3969 - acc: 0.8349 - val_loss: 0.3945 - val_acc: 0.8410\n",
      "Epoch 30/100\n",
      "8000/8000 [==============================] - 0s 40us/step - loss: 0.3967 - acc: 0.8359 - val_loss: 0.3950 - val_acc: 0.8405\n",
      "Epoch 31/100\n",
      "8000/8000 [==============================] - 0s 40us/step - loss: 0.3964 - acc: 0.8355 - val_loss: 0.3942 - val_acc: 0.8415\n",
      "Epoch 32/100\n",
      "8000/8000 [==============================] - 0s 39us/step - loss: 0.3961 - acc: 0.8344 - val_loss: 0.3935 - val_acc: 0.8405\n",
      "Epoch 33/100\n",
      "8000/8000 [==============================] - 0s 38us/step - loss: 0.3962 - acc: 0.8356 - val_loss: 0.3947 - val_acc: 0.8390\n",
      "Epoch 34/100\n",
      "8000/8000 [==============================] - 0s 38us/step - loss: 0.3962 - acc: 0.8350 - val_loss: 0.3941 - val_acc: 0.8400\n",
      "Epoch 35/100\n",
      "8000/8000 [==============================] - 0s 39us/step - loss: 0.3955 - acc: 0.8348 - val_loss: 0.3944 - val_acc: 0.8415\n",
      "Epoch 36/100\n",
      "8000/8000 [==============================] - 0s 39us/step - loss: 0.3956 - acc: 0.8350 - val_loss: 0.3936 - val_acc: 0.8410\n",
      "Epoch 37/100\n",
      "8000/8000 [==============================] - 0s 38us/step - loss: 0.3959 - acc: 0.8364 - val_loss: 0.3942 - val_acc: 0.8410\n",
      "Epoch 38/100\n",
      "8000/8000 [==============================] - 0s 38us/step - loss: 0.3955 - acc: 0.8345 - val_loss: 0.3938 - val_acc: 0.8410\n",
      "Epoch 39/100\n",
      "8000/8000 [==============================] - 0s 38us/step - loss: 0.3953 - acc: 0.8345 - val_loss: 0.3933 - val_acc: 0.8410\n",
      "Epoch 40/100\n",
      "8000/8000 [==============================] - 0s 45us/step - loss: 0.3953 - acc: 0.8361 - val_loss: 0.3952 - val_acc: 0.8430\n",
      "Epoch 41/100\n",
      "8000/8000 [==============================] - 0s 50us/step - loss: 0.3950 - acc: 0.8356 - val_loss: 0.3945 - val_acc: 0.8415\n",
      "Epoch 42/100\n",
      "8000/8000 [==============================] - 0s 47us/step - loss: 0.3953 - acc: 0.8367 - val_loss: 0.3940 - val_acc: 0.8420\n",
      "Epoch 43/100\n",
      "8000/8000 [==============================] - 0s 48us/step - loss: 0.3947 - acc: 0.8370 - val_loss: 0.3960 - val_acc: 0.8410\n",
      "Epoch 44/100\n",
      "8000/8000 [==============================] - 0s 47us/step - loss: 0.3947 - acc: 0.8357 - val_loss: 0.3943 - val_acc: 0.8420\n",
      "Epoch 45/100\n",
      "8000/8000 [==============================] - 0s 45us/step - loss: 0.3949 - acc: 0.8361 - val_loss: 0.3938 - val_acc: 0.8415\n",
      "Epoch 46/100\n",
      "8000/8000 [==============================] - 0s 44us/step - loss: 0.3945 - acc: 0.8357 - val_loss: 0.3937 - val_acc: 0.8420\n",
      "Epoch 47/100\n",
      "8000/8000 [==============================] - 0s 44us/step - loss: 0.3943 - acc: 0.8355 - val_loss: 0.3936 - val_acc: 0.8420\n",
      "Epoch 48/100\n",
      "8000/8000 [==============================] - 0s 46us/step - loss: 0.3947 - acc: 0.8356 - val_loss: 0.3942 - val_acc: 0.8410\n",
      "Epoch 49/100\n",
      "8000/8000 [==============================] - 0s 41us/step - loss: 0.3943 - acc: 0.8374 - val_loss: 0.3932 - val_acc: 0.8405\n",
      "Epoch 50/100\n",
      "8000/8000 [==============================] - 0s 39us/step - loss: 0.3943 - acc: 0.8363 - val_loss: 0.3950 - val_acc: 0.8400\n",
      "Epoch 51/100\n",
      "8000/8000 [==============================] - 0s 39us/step - loss: 0.3942 - acc: 0.8359 - val_loss: 0.3931 - val_acc: 0.8400\n",
      "Epoch 52/100\n",
      "8000/8000 [==============================] - 0s 39us/step - loss: 0.3942 - acc: 0.8365 - val_loss: 0.3936 - val_acc: 0.8420\n",
      "Epoch 53/100\n",
      "8000/8000 [==============================] - 0s 40us/step - loss: 0.3940 - acc: 0.8371 - val_loss: 0.3937 - val_acc: 0.8430\n",
      "Epoch 54/100\n",
      "8000/8000 [==============================] - 0s 39us/step - loss: 0.3940 - acc: 0.8357 - val_loss: 0.3950 - val_acc: 0.8415\n",
      "Epoch 55/100\n",
      "8000/8000 [==============================] - 0s 38us/step - loss: 0.3939 - acc: 0.8377 - val_loss: 0.3937 - val_acc: 0.8440\n",
      "Epoch 56/100\n",
      "8000/8000 [==============================] - 0s 40us/step - loss: 0.3939 - acc: 0.8376 - val_loss: 0.3933 - val_acc: 0.8440\n",
      "Epoch 57/100\n",
      "8000/8000 [==============================] - 0s 41us/step - loss: 0.3938 - acc: 0.8370 - val_loss: 0.3929 - val_acc: 0.8435\n",
      "Epoch 58/100\n",
      "8000/8000 [==============================] - 0s 39us/step - loss: 0.3935 - acc: 0.8369 - val_loss: 0.3942 - val_acc: 0.8405\n",
      "Epoch 59/100\n",
      "8000/8000 [==============================] - 0s 43us/step - loss: 0.3937 - acc: 0.8371 - val_loss: 0.3947 - val_acc: 0.8410\n",
      "Epoch 60/100\n",
      "8000/8000 [==============================] - 0s 39us/step - loss: 0.3934 - acc: 0.8359 - val_loss: 0.3924 - val_acc: 0.8400\n",
      "Epoch 61/100\n",
      "8000/8000 [==============================] - 0s 39us/step - loss: 0.3937 - acc: 0.8387 - val_loss: 0.3929 - val_acc: 0.8445\n",
      "Epoch 62/100\n",
      "8000/8000 [==============================] - 0s 39us/step - loss: 0.3936 - acc: 0.8369 - val_loss: 0.3938 - val_acc: 0.8425\n",
      "Epoch 63/100\n",
      "8000/8000 [==============================] - 0s 38us/step - loss: 0.3932 - acc: 0.8379 - val_loss: 0.3936 - val_acc: 0.8420\n",
      "Epoch 64/100\n",
      "8000/8000 [==============================] - 0s 38us/step - loss: 0.3936 - acc: 0.8371 - val_loss: 0.3955 - val_acc: 0.8415\n",
      "Epoch 65/100\n",
      "8000/8000 [==============================] - 0s 38us/step - loss: 0.3940 - acc: 0.8380 - val_loss: 0.3947 - val_acc: 0.8410\n",
      "Epoch 66/100\n",
      "8000/8000 [==============================] - 0s 38us/step - loss: 0.3936 - acc: 0.8374 - val_loss: 0.3927 - val_acc: 0.8420\n",
      "Epoch 67/100\n",
      "8000/8000 [==============================] - 0s 51us/step - loss: 0.3933 - acc: 0.8377 - val_loss: 0.3936 - val_acc: 0.8420\n",
      "Epoch 68/100\n",
      "8000/8000 [==============================] - 0s 45us/step - loss: 0.3935 - acc: 0.8367 - val_loss: 0.3947 - val_acc: 0.8420\n",
      "Epoch 69/100\n",
      "8000/8000 [==============================] - 0s 51us/step - loss: 0.3934 - acc: 0.8375 - val_loss: 0.3926 - val_acc: 0.8410\n",
      "Epoch 70/100\n",
      "8000/8000 [==============================] - 0s 43us/step - loss: 0.3935 - acc: 0.8371 - val_loss: 0.3936 - val_acc: 0.8410\n",
      "Epoch 71/100\n",
      "8000/8000 [==============================] - 0s 42us/step - loss: 0.3932 - acc: 0.8371 - val_loss: 0.3956 - val_acc: 0.8420\n",
      "Epoch 72/100\n",
      "8000/8000 [==============================] - 0s 39us/step - loss: 0.3935 - acc: 0.8381 - val_loss: 0.3943 - val_acc: 0.8420\n",
      "Epoch 73/100\n",
      "8000/8000 [==============================] - 0s 39us/step - loss: 0.3934 - acc: 0.8375 - val_loss: 0.3935 - val_acc: 0.8415\n",
      "Epoch 74/100\n",
      "8000/8000 [==============================] - 0s 38us/step - loss: 0.3937 - acc: 0.8361 - val_loss: 0.3924 - val_acc: 0.8420\n",
      "Epoch 75/100\n",
      "8000/8000 [==============================] - 0s 40us/step - loss: 0.3933 - acc: 0.8364 - val_loss: 0.3932 - val_acc: 0.8415\n",
      "Epoch 76/100\n",
      "8000/8000 [==============================] - 0s 41us/step - loss: 0.3934 - acc: 0.8380 - val_loss: 0.3954 - val_acc: 0.8430\n",
      "Epoch 77/100\n",
      "8000/8000 [==============================] - 0s 40us/step - loss: 0.3933 - acc: 0.8370 - val_loss: 0.3936 - val_acc: 0.8400\n",
      "Epoch 78/100\n",
      "8000/8000 [==============================] - 0s 40us/step - loss: 0.3935 - acc: 0.8386 - val_loss: 0.3934 - val_acc: 0.8410\n",
      "Epoch 79/100\n",
      "8000/8000 [==============================] - 0s 46us/step - loss: 0.3933 - acc: 0.8366 - val_loss: 0.3930 - val_acc: 0.8420\n",
      "Epoch 80/100\n",
      "8000/8000 [==============================] - 0s 44us/step - loss: 0.3930 - acc: 0.8367 - val_loss: 0.3933 - val_acc: 0.8420\n",
      "Epoch 81/100\n",
      "8000/8000 [==============================] - 0s 40us/step - loss: 0.3932 - acc: 0.8354 - val_loss: 0.3950 - val_acc: 0.8425\n",
      "Epoch 82/100\n",
      "8000/8000 [==============================] - 0s 40us/step - loss: 0.3936 - acc: 0.8366 - val_loss: 0.3939 - val_acc: 0.8420\n",
      "Epoch 83/100\n",
      "8000/8000 [==============================] - 0s 38us/step - loss: 0.3932 - acc: 0.8374 - val_loss: 0.3945 - val_acc: 0.8415\n",
      "Epoch 84/100\n",
      "8000/8000 [==============================] - 0s 38us/step - loss: 0.3930 - acc: 0.8387 - val_loss: 0.3953 - val_acc: 0.8440\n",
      "Epoch 85/100\n",
      "8000/8000 [==============================] - 0s 37us/step - loss: 0.3929 - acc: 0.8374 - val_loss: 0.3936 - val_acc: 0.8415\n",
      "Epoch 86/100\n",
      "8000/8000 [==============================] - 0s 38us/step - loss: 0.3934 - acc: 0.8375 - val_loss: 0.3934 - val_acc: 0.8400\n",
      "Epoch 87/100\n",
      "8000/8000 [==============================] - 0s 42us/step - loss: 0.3932 - acc: 0.8382 - val_loss: 0.3938 - val_acc: 0.8420\n",
      "Epoch 88/100\n",
      "8000/8000 [==============================] - 0s 47us/step - loss: 0.3931 - acc: 0.8375 - val_loss: 0.3940 - val_acc: 0.8395\n",
      "Epoch 89/100\n",
      "8000/8000 [==============================] - 0s 53us/step - loss: 0.3933 - acc: 0.8373 - val_loss: 0.3940 - val_acc: 0.8400\n",
      "Epoch 90/100\n",
      "8000/8000 [==============================] - 0s 54us/step - loss: 0.3930 - acc: 0.8364 - val_loss: 0.3948 - val_acc: 0.8450\n",
      "Epoch 91/100\n",
      "8000/8000 [==============================] - 0s 54us/step - loss: 0.3929 - acc: 0.8381 - val_loss: 0.3936 - val_acc: 0.8410\n",
      "Epoch 92/100\n",
      "8000/8000 [==============================] - 0s 47us/step - loss: 0.3933 - acc: 0.8370 - val_loss: 0.3936 - val_acc: 0.8440\n",
      "Epoch 93/100\n",
      "8000/8000 [==============================] - 0s 45us/step - loss: 0.3930 - acc: 0.8373 - val_loss: 0.3946 - val_acc: 0.8430\n",
      "Epoch 94/100\n",
      "8000/8000 [==============================] - 0s 43us/step - loss: 0.3931 - acc: 0.8376 - val_loss: 0.3948 - val_acc: 0.8415\n",
      "Epoch 95/100\n",
      "8000/8000 [==============================] - 0s 48us/step - loss: 0.3933 - acc: 0.8376 - val_loss: 0.3944 - val_acc: 0.8430\n",
      "Epoch 96/100\n",
      "8000/8000 [==============================] - 0s 48us/step - loss: 0.3930 - acc: 0.8376 - val_loss: 0.3935 - val_acc: 0.8425\n",
      "Epoch 97/100\n",
      "8000/8000 [==============================] - 0s 40us/step - loss: 0.3930 - acc: 0.8373 - val_loss: 0.3948 - val_acc: 0.8440\n",
      "Epoch 98/100\n",
      "8000/8000 [==============================] - 0s 40us/step - loss: 0.3929 - acc: 0.8371 - val_loss: 0.3944 - val_acc: 0.8430\n",
      "Epoch 99/100\n",
      "8000/8000 [==============================] - 0s 41us/step - loss: 0.3929 - acc: 0.8377 - val_loss: 0.3929 - val_acc: 0.8420\n",
      "Epoch 100/100\n",
      "8000/8000 [==============================] - 0s 48us/step - loss: 0.3931 - acc: 0.8375 - val_loss: 0.3932 - val_acc: 0.8425\n"
     ]
    },
    {
     "data": {
      "text/plain": [
       "<keras.callbacks.History at 0x26c4ef8a358>"
      ]
     },
     "execution_count": 22,
     "metadata": {
      "tags": []
     },
     "output_type": "execute_result"
    }
   ],
   "source": [
    "classifier.fit(X_train, y_train,           \n",
    "          validation_data=(X_test,y_test),\n",
    "          epochs=100,\n",
    "          batch_size=32)"
   ]
  },
  {
   "cell_type": "markdown",
   "metadata": {
    "colab_type": "text",
    "id": "ptZLKhZ0HURX"
   },
   "source": [
    "#### Predict the results using 0.5 as a threshold"
   ]
  },
  {
   "cell_type": "code",
   "execution_count": 0,
   "metadata": {
    "colab": {},
    "colab_type": "code",
    "id": "GttaoUVkHURZ",
    "outputId": "177d472d-a757-4b77-da4a-dbcf37cebd44"
   },
   "outputs": [
    {
     "name": "stdout",
     "output_type": "stream",
     "text": [
      "[[0.16465265]\n",
      " [0.366645  ]\n",
      " [0.19089493]\n",
      " ...\n",
      " [0.1920755 ]\n",
      " [0.11538038]\n",
      " [0.15698254]]\n"
     ]
    }
   ],
   "source": [
    "y_pred = classifier.predict(X_test)\n",
    "print(y_pred)"
   ]
  },
  {
   "cell_type": "code",
   "execution_count": 0,
   "metadata": {
    "colab": {},
    "colab_type": "code",
    "id": "nPwZePRlHURf",
    "outputId": "6fd26c9c-445a-4445-dbc3-26510e83d8ab"
   },
   "outputs": [
    {
     "name": "stdout",
     "output_type": "stream",
     "text": [
      "[[False]\n",
      " [False]\n",
      " [False]\n",
      " ...\n",
      " [False]\n",
      " [False]\n",
      " [False]]\n"
     ]
    }
   ],
   "source": [
    "# To use the confusion Matrix, we need to convert the probabilities that a customer will leave the bank into the form true or false. \n",
    "# So we will use the cutoff value 0.5 to indicate whether they are likely to exit or not.\n",
    "y_pred = (y_pred > 0.5)\n",
    "print(y_pred)"
   ]
  },
  {
   "cell_type": "markdown",
   "metadata": {
    "colab_type": "text",
    "id": "APzf2XxgHURk"
   },
   "source": [
    "#### Print the Accuracy score and confusion matrix"
   ]
  },
  {
   "cell_type": "code",
   "execution_count": 0,
   "metadata": {
    "colab": {},
    "colab_type": "code",
    "id": "8kC2hKKdHURm",
    "outputId": "38348313-6378-4203-8a8e-6ddc8e1831f0"
   },
   "outputs": [
    {
     "name": "stdout",
     "output_type": "stream",
     "text": [
      "[[1548   47]\n",
      " [ 268  137]]\n"
     ]
    }
   ],
   "source": [
    "cm2 = confusion_matrix(y_test, y_pred)\n",
    "print(cm2)"
   ]
  },
  {
   "cell_type": "code",
   "execution_count": 0,
   "metadata": {
    "colab": {},
    "colab_type": "code",
    "id": "KE3qpaFuHURp",
    "outputId": "34d08237-fafa-4cc3-c244-6d7cdb6b75ea"
   },
   "outputs": [
    {
     "name": "stdout",
     "output_type": "stream",
     "text": [
      "84.25 % of testing data was classified correctly\n"
     ]
    }
   ],
   "source": [
    "accuracy_model2 = ((cm2[0][0]+cm2[1][1])*100)/(cm2[0][0]+cm2[1][1]+cm2[0][1]+cm2[1][0])\n",
    "print (accuracy_model2, '% of testing data was classified correctly')"
   ]
  },
  {
   "cell_type": "markdown",
   "metadata": {
    "colab_type": "text",
    "id": "kbRxXISJHURt"
   },
   "source": [
    "#### The optimised model gives better results as seen from the confusion matrix as well as improved accuracy"
   ]
  }
 ],
 "metadata": {
  "colab": {
   "name": "Project1_NeuralNetworks_Basics_BankDataset_Solution.ipynb",
   "provenance": []
  },
  "kernelspec": {
   "display_name": "Python 3",
   "language": "python",
   "name": "python3"
  },
  "language_info": {
   "codemirror_mode": {
    "name": "ipython",
    "version": 3
   },
   "file_extension": ".py",
   "mimetype": "text/x-python",
   "name": "python",
   "nbconvert_exporter": "python",
   "pygments_lexer": "ipython3",
   "version": "3.7.6"
  }
 },
 "nbformat": 4,
 "nbformat_minor": 1
}
